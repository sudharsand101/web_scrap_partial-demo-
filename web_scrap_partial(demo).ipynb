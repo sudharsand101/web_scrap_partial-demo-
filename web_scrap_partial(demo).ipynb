{
 "cells": [
  {
   "cell_type": "code",
   "execution_count": null,
   "id": "38f65d1c-66c7-4632-91a6-6ed7007465c1",
   "metadata": {},
   "outputs": [],
   "source": [
    "# importing colour print\n",
    "import simple_colors\n",
    "\n",
    "#project details\n",
    "print(simple_colors.magenta(\"\\033[1m\" + \"\"\"                                       project title    :    youtube data harvesting and warehousing\n",
    "                                        learner name    :    sudharsan J\n",
    "                                        course          :    datascience\n",
    "                                        batch           :    d101\n",
    "                                        mentor          :    poonam adhikari\n",
    "                                        institute       :    GUVI\"\"\" + \"\\033[0m\"))\n",
    "\n",
    "#importing the necessary modules\n",
    "import selenium\n",
    "from selenium import webdriver\n",
    "from selenium.webdriver.common.by import By\n",
    "from selenium.webdriver.common.keys import Keys\n",
    "import time\n",
    "\n",
    "# to open the webpage using web driver\n",
    "driver = webdriver.Chrome()\n",
    "driver.get('***your webpage url link****');\n",
    "time.sleep(5)\n",
    "\n",
    "# to scrap the website # element 1\n",
    "print(simple_colors.green(\"element 1:\"))\n",
    "\n",
    "title_box = driver.find_element(By.ID,'desktopSearchResults')\n",
    "print(title_box)\n",
    "\n",
    "\n",
    "\n",
    "# element 2 extraction\n",
    "print(simple_colors.green(\"element 2:\"))\n",
    "\n",
    "root_box = driver.find_element(By.ID,'mountRoot')\n",
    "print(root_box)\n",
    "\n",
    "\n",
    "\n",
    "# element 3 extraction\n",
    "print(simple_colors.green(\"element 3:\"))\n",
    "\n",
    "title_box = driver.find_element(By.CLASS_NAME,'myx-header-container')\n",
    "print(title_box)\n",
    "\n",
    "\n",
    "\n",
    "# element 4 extraction\n",
    "print(simple_colors.green(\"element 4:\"))\n",
    "desktop_search = driver.find_element(By.XPATH,'//*[@id=\"desktopSearchResults\"]/div[2]/section/ul/li[2]/a/div[2]/div/span[1]/span[1]')\n",
    "print(desktop_search)"
   ]
  }
 ],
 "metadata": {
  "kernelspec": {
   "display_name": "Python 3 (ipykernel)",
   "language": "python",
   "name": "python3"
  },
  "language_info": {
   "codemirror_mode": {
    "name": "ipython",
    "version": 3
   },
   "file_extension": ".py",
   "mimetype": "text/x-python",
   "name": "python",
   "nbconvert_exporter": "python",
   "pygments_lexer": "ipython3",
   "version": "3.12.0"
  }
 },
 "nbformat": 4,
 "nbformat_minor": 5
}
